{
  "cells": [
    {
      "cell_type": "markdown",
      "id": "6f11ecc8",
      "metadata": {
        "id": "6f11ecc8"
      },
      "source": [
        "# Phase 3"
      ]
    },
    {
      "cell_type": "markdown",
      "id": "9cf08852",
      "metadata": {
        "id": "9cf08852"
      },
      "source": [
        "### Importing the required libraries"
      ]
    },
    {
      "cell_type": "code",
      "source": [
        "!pip install pyspark"
      ],
      "metadata": {
        "colab": {
          "base_uri": "https://localhost:8080/"
        },
        "id": "UUpm09BQljRI",
        "outputId": "def4cc6b-71ca-4bbe-f324-ecd8b18c863e"
      },
      "id": "UUpm09BQljRI",
      "execution_count": 1,
      "outputs": [
        {
          "output_type": "stream",
          "name": "stdout",
          "text": [
            "Requirement already satisfied: pyspark in /usr/local/lib/python3.10/dist-packages (3.4.1)\n",
            "Requirement already satisfied: py4j==0.10.9.7 in /usr/local/lib/python3.10/dist-packages (from pyspark) (0.10.9.7)\n"
          ]
        }
      ]
    },
    {
      "cell_type": "code",
      "execution_count": 2,
      "id": "2b0ac300",
      "metadata": {
        "id": "2b0ac300"
      },
      "outputs": [],
      "source": [
        "\n",
        "import pandas as pd\n",
        "from pyspark.sql import SparkSession\n",
        "from pyspark import SparkContext\n",
        "import time"
      ]
    },
    {
      "cell_type": "markdown",
      "id": "622bc3aa",
      "metadata": {
        "id": "622bc3aa"
      },
      "source": [
        "## Loading with PySpark"
      ]
    },
    {
      "cell_type": "code",
      "execution_count": 3,
      "id": "c0f88b1a",
      "metadata": {
        "id": "c0f88b1a"
      },
      "outputs": [],
      "source": [
        "start_time_pyspark = time.time()\n",
        "\n",
        "spark = SparkSession.builder.getOrCreate()\n",
        "\n",
        "df = spark.read.csv(\"netflix_titles.csv\", header=True)\n",
        "\n",
        "end_time_pyspark = time.time()\n",
        "\n",
        "time_difference_pyspark = end_time_pyspark - start_time_pyspark\n",
        "\n",
        "pandas_df = df.toPandas()\n",
        "\n",
        "spark.stop()"
      ]
    },
    {
      "cell_type": "code",
      "execution_count": 4,
      "id": "e3f83573",
      "metadata": {
        "id": "e3f83573",
        "outputId": "db35735f-0956-40c0-cb0f-be1778025ad6",
        "colab": {
          "base_uri": "https://localhost:8080/",
          "height": 337
        }
      },
      "outputs": [
        {
          "output_type": "execute_result",
          "data": {
            "text/plain": [
              "  show_id     type                  title         director  \\\n",
              "0      s1    Movie   Dick Johnson Is Dead  Kirsten Johnson   \n",
              "1      s2  TV Show          Blood & Water             None   \n",
              "2      s3  TV Show              Ganglands  Julien Leclercq   \n",
              "3      s4  TV Show  Jailbirds New Orleans             None   \n",
              "4      s5  TV Show           Kota Factory             None   \n",
              "\n",
              "                                                cast        country  \\\n",
              "0                                               None  United States   \n",
              "1  Ama Qamata, Khosi Ngema, Gail Mabalane, Thaban...   South Africa   \n",
              "2  Sami Bouajila, Tracy Gotoas, Samuel Jouy, Nabi...           None   \n",
              "3                                               None           None   \n",
              "4  Mayur More, Jitendra Kumar, Ranjan Raj, Alam K...          India   \n",
              "\n",
              "           date_added release_year rating   duration  \\\n",
              "0  September 25, 2021         2020  PG-13     90 min   \n",
              "1  September 24, 2021         2021  TV-MA  2 Seasons   \n",
              "2  September 24, 2021         2021  TV-MA   1 Season   \n",
              "3  September 24, 2021         2021  TV-MA   1 Season   \n",
              "4  September 24, 2021         2021  TV-MA  2 Seasons   \n",
              "\n",
              "                                           listed_in  \\\n",
              "0                                      Documentaries   \n",
              "1    International TV Shows, TV Dramas, TV Mysteries   \n",
              "2  Crime TV Shows, International TV Shows, TV Act...   \n",
              "3                             Docuseries, Reality TV   \n",
              "4  International TV Shows, Romantic TV Shows, TV ...   \n",
              "\n",
              "                                         description  \n",
              "0  As her father nears the end of his life, filmm...  \n",
              "1  After crossing paths at a party, a Cape Town t...  \n",
              "2  To protect his family from a powerful drug lor...  \n",
              "3  Feuds, flirtations and toilet talk go down amo...  \n",
              "4  In a city of coaching centers known to train I...  "
            ],
            "text/html": [
              "\n",
              "  <div id=\"df-dbf85946-66fa-446c-9c8b-77ad41d4a8d2\">\n",
              "    <div class=\"colab-df-container\">\n",
              "      <div>\n",
              "<style scoped>\n",
              "    .dataframe tbody tr th:only-of-type {\n",
              "        vertical-align: middle;\n",
              "    }\n",
              "\n",
              "    .dataframe tbody tr th {\n",
              "        vertical-align: top;\n",
              "    }\n",
              "\n",
              "    .dataframe thead th {\n",
              "        text-align: right;\n",
              "    }\n",
              "</style>\n",
              "<table border=\"1\" class=\"dataframe\">\n",
              "  <thead>\n",
              "    <tr style=\"text-align: right;\">\n",
              "      <th></th>\n",
              "      <th>show_id</th>\n",
              "      <th>type</th>\n",
              "      <th>title</th>\n",
              "      <th>director</th>\n",
              "      <th>cast</th>\n",
              "      <th>country</th>\n",
              "      <th>date_added</th>\n",
              "      <th>release_year</th>\n",
              "      <th>rating</th>\n",
              "      <th>duration</th>\n",
              "      <th>listed_in</th>\n",
              "      <th>description</th>\n",
              "    </tr>\n",
              "  </thead>\n",
              "  <tbody>\n",
              "    <tr>\n",
              "      <th>0</th>\n",
              "      <td>s1</td>\n",
              "      <td>Movie</td>\n",
              "      <td>Dick Johnson Is Dead</td>\n",
              "      <td>Kirsten Johnson</td>\n",
              "      <td>None</td>\n",
              "      <td>United States</td>\n",
              "      <td>September 25, 2021</td>\n",
              "      <td>2020</td>\n",
              "      <td>PG-13</td>\n",
              "      <td>90 min</td>\n",
              "      <td>Documentaries</td>\n",
              "      <td>As her father nears the end of his life, filmm...</td>\n",
              "    </tr>\n",
              "    <tr>\n",
              "      <th>1</th>\n",
              "      <td>s2</td>\n",
              "      <td>TV Show</td>\n",
              "      <td>Blood &amp; Water</td>\n",
              "      <td>None</td>\n",
              "      <td>Ama Qamata, Khosi Ngema, Gail Mabalane, Thaban...</td>\n",
              "      <td>South Africa</td>\n",
              "      <td>September 24, 2021</td>\n",
              "      <td>2021</td>\n",
              "      <td>TV-MA</td>\n",
              "      <td>2 Seasons</td>\n",
              "      <td>International TV Shows, TV Dramas, TV Mysteries</td>\n",
              "      <td>After crossing paths at a party, a Cape Town t...</td>\n",
              "    </tr>\n",
              "    <tr>\n",
              "      <th>2</th>\n",
              "      <td>s3</td>\n",
              "      <td>TV Show</td>\n",
              "      <td>Ganglands</td>\n",
              "      <td>Julien Leclercq</td>\n",
              "      <td>Sami Bouajila, Tracy Gotoas, Samuel Jouy, Nabi...</td>\n",
              "      <td>None</td>\n",
              "      <td>September 24, 2021</td>\n",
              "      <td>2021</td>\n",
              "      <td>TV-MA</td>\n",
              "      <td>1 Season</td>\n",
              "      <td>Crime TV Shows, International TV Shows, TV Act...</td>\n",
              "      <td>To protect his family from a powerful drug lor...</td>\n",
              "    </tr>\n",
              "    <tr>\n",
              "      <th>3</th>\n",
              "      <td>s4</td>\n",
              "      <td>TV Show</td>\n",
              "      <td>Jailbirds New Orleans</td>\n",
              "      <td>None</td>\n",
              "      <td>None</td>\n",
              "      <td>None</td>\n",
              "      <td>September 24, 2021</td>\n",
              "      <td>2021</td>\n",
              "      <td>TV-MA</td>\n",
              "      <td>1 Season</td>\n",
              "      <td>Docuseries, Reality TV</td>\n",
              "      <td>Feuds, flirtations and toilet talk go down amo...</td>\n",
              "    </tr>\n",
              "    <tr>\n",
              "      <th>4</th>\n",
              "      <td>s5</td>\n",
              "      <td>TV Show</td>\n",
              "      <td>Kota Factory</td>\n",
              "      <td>None</td>\n",
              "      <td>Mayur More, Jitendra Kumar, Ranjan Raj, Alam K...</td>\n",
              "      <td>India</td>\n",
              "      <td>September 24, 2021</td>\n",
              "      <td>2021</td>\n",
              "      <td>TV-MA</td>\n",
              "      <td>2 Seasons</td>\n",
              "      <td>International TV Shows, Romantic TV Shows, TV ...</td>\n",
              "      <td>In a city of coaching centers known to train I...</td>\n",
              "    </tr>\n",
              "  </tbody>\n",
              "</table>\n",
              "</div>\n",
              "      <button class=\"colab-df-convert\" onclick=\"convertToInteractive('df-dbf85946-66fa-446c-9c8b-77ad41d4a8d2')\"\n",
              "              title=\"Convert this dataframe to an interactive table.\"\n",
              "              style=\"display:none;\">\n",
              "        \n",
              "  <svg xmlns=\"http://www.w3.org/2000/svg\" height=\"24px\"viewBox=\"0 0 24 24\"\n",
              "       width=\"24px\">\n",
              "    <path d=\"M0 0h24v24H0V0z\" fill=\"none\"/>\n",
              "    <path d=\"M18.56 5.44l.94 2.06.94-2.06 2.06-.94-2.06-.94-.94-2.06-.94 2.06-2.06.94zm-11 1L8.5 8.5l.94-2.06 2.06-.94-2.06-.94L8.5 2.5l-.94 2.06-2.06.94zm10 10l.94 2.06.94-2.06 2.06-.94-2.06-.94-.94-2.06-.94 2.06-2.06.94z\"/><path d=\"M17.41 7.96l-1.37-1.37c-.4-.4-.92-.59-1.43-.59-.52 0-1.04.2-1.43.59L10.3 9.45l-7.72 7.72c-.78.78-.78 2.05 0 2.83L4 21.41c.39.39.9.59 1.41.59.51 0 1.02-.2 1.41-.59l7.78-7.78 2.81-2.81c.8-.78.8-2.07 0-2.86zM5.41 20L4 18.59l7.72-7.72 1.47 1.35L5.41 20z\"/>\n",
              "  </svg>\n",
              "      </button>\n",
              "      \n",
              "  <style>\n",
              "    .colab-df-container {\n",
              "      display:flex;\n",
              "      flex-wrap:wrap;\n",
              "      gap: 12px;\n",
              "    }\n",
              "\n",
              "    .colab-df-convert {\n",
              "      background-color: #E8F0FE;\n",
              "      border: none;\n",
              "      border-radius: 50%;\n",
              "      cursor: pointer;\n",
              "      display: none;\n",
              "      fill: #1967D2;\n",
              "      height: 32px;\n",
              "      padding: 0 0 0 0;\n",
              "      width: 32px;\n",
              "    }\n",
              "\n",
              "    .colab-df-convert:hover {\n",
              "      background-color: #E2EBFA;\n",
              "      box-shadow: 0px 1px 2px rgba(60, 64, 67, 0.3), 0px 1px 3px 1px rgba(60, 64, 67, 0.15);\n",
              "      fill: #174EA6;\n",
              "    }\n",
              "\n",
              "    [theme=dark] .colab-df-convert {\n",
              "      background-color: #3B4455;\n",
              "      fill: #D2E3FC;\n",
              "    }\n",
              "\n",
              "    [theme=dark] .colab-df-convert:hover {\n",
              "      background-color: #434B5C;\n",
              "      box-shadow: 0px 1px 3px 1px rgba(0, 0, 0, 0.15);\n",
              "      filter: drop-shadow(0px 1px 2px rgba(0, 0, 0, 0.3));\n",
              "      fill: #FFFFFF;\n",
              "    }\n",
              "  </style>\n",
              "\n",
              "      <script>\n",
              "        const buttonEl =\n",
              "          document.querySelector('#df-dbf85946-66fa-446c-9c8b-77ad41d4a8d2 button.colab-df-convert');\n",
              "        buttonEl.style.display =\n",
              "          google.colab.kernel.accessAllowed ? 'block' : 'none';\n",
              "\n",
              "        async function convertToInteractive(key) {\n",
              "          const element = document.querySelector('#df-dbf85946-66fa-446c-9c8b-77ad41d4a8d2');\n",
              "          const dataTable =\n",
              "            await google.colab.kernel.invokeFunction('convertToInteractive',\n",
              "                                                     [key], {});\n",
              "          if (!dataTable) return;\n",
              "\n",
              "          const docLinkHtml = 'Like what you see? Visit the ' +\n",
              "            '<a target=\"_blank\" href=https://colab.research.google.com/notebooks/data_table.ipynb>data table notebook</a>'\n",
              "            + ' to learn more about interactive tables.';\n",
              "          element.innerHTML = '';\n",
              "          dataTable['output_type'] = 'display_data';\n",
              "          await google.colab.output.renderOutput(dataTable, element);\n",
              "          const docLink = document.createElement('div');\n",
              "          docLink.innerHTML = docLinkHtml;\n",
              "          element.appendChild(docLink);\n",
              "        }\n",
              "      </script>\n",
              "    </div>\n",
              "  </div>\n",
              "  "
            ]
          },
          "metadata": {},
          "execution_count": 4
        }
      ],
      "source": [
        "pandas_df.head()"
      ]
    },
    {
      "cell_type": "markdown",
      "id": "830606e2",
      "metadata": {
        "id": "830606e2"
      },
      "source": [
        "## Loading data using Pandas\n"
      ]
    },
    {
      "cell_type": "code",
      "execution_count": 12,
      "id": "58f7f9ff",
      "metadata": {
        "id": "58f7f9ff"
      },
      "outputs": [],
      "source": [
        "start_time = time.time()\n",
        "test_df_load = pd.read_csv('netflix_titles.csv')\n",
        "end_time = time.time()\n",
        "time_difference_pandas = end_time - start_time"
      ]
    },
    {
      "cell_type": "markdown",
      "id": "d801cef0",
      "metadata": {
        "id": "d801cef0"
      },
      "source": [
        "## Time difference of loading our dataset with PySpark and Pandas"
      ]
    },
    {
      "cell_type": "code",
      "execution_count": 13,
      "id": "dc871e34",
      "metadata": {
        "id": "dc871e34",
        "outputId": "9a6e4bd5-3074-44f8-cf9d-91d57af540cd",
        "colab": {
          "base_uri": "https://localhost:8080/"
        }
      },
      "outputs": [
        {
          "output_type": "stream",
          "name": "stdout",
          "text": [
            "Time for data loading using pandas:  0.13768243789672852\n",
            "Time for data loading using pyspark:  29.427265644073486\n",
            "Time difference between pyspark and pandas dataframe:  29.289583206176758\n"
          ]
        }
      ],
      "source": [
        "print(\"Time for data loading using pandas: \", time_difference_pandas)\n",
        "print(\"Time for data loading using pyspark: \", time_difference_pyspark)\n",
        "print( \"Time difference between pyspark and pandas dataframe: \", time_difference_pyspark - time_difference_pandas)"
      ]
    },
    {
      "cell_type": "markdown",
      "source": [
        "### **Word count using Pandas for country column**"
      ],
      "metadata": {
        "id": "3MNPpFSQo-mo"
      },
      "id": "3MNPpFSQo-mo"
    },
    {
      "cell_type": "code",
      "execution_count": 7,
      "id": "0992a64a",
      "metadata": {
        "id": "0992a64a"
      },
      "outputs": [],
      "source": [
        "start_time_wordcount_panda = time.time()\n",
        "\n",
        "combined_text = ' '.join(test_df_load['country'].astype(str).tolist())\n",
        "combined_text = combined_text.replace(\",\", \" \")\n",
        "combined_text = combined_text.replace(\"United States\", \"UnitedStates\")\n",
        "combined_text = combined_text.replace(\"United Kingdom\", \"UnitedKingdom\")\n",
        "combined_text = combined_text.replace(\"United Arab Emirates\", \"UnitedArabEmirates\")\n",
        "combined_text = combined_text.replace(\"Hong Kong\", \"HongKong\")\n",
        "combined_text = combined_text.replace(\"New Zealand\", \"NewZealand\")\n",
        "combined_text = combined_text.replace(\"Saudi Arabia\", \"SaudiArabia\")\n",
        "combined_text = combined_text.replace(\"Czech Republic\", \"CzechRepublic\")\n",
        "combined_text = combined_text.replace(\"South Korea\", \"SouthKorea\")\n",
        "combined_text = combined_text.replace(\"West Germany\", \"WestGermany\")\n",
        "combined_text = combined_text.replace(\"East Germany\", \"EastGermany\")\n",
        "combined_text = combined_text.replace(\"Cayman Islands\", \"CaymanIslands\")\n",
        "combined_text = combined_text.replace(\"South Africa\", \"SouthAfrica\")\n",
        "combined_text = combined_text.replace(\"Soviet Union\", \"SovietUnion\")\n",
        "combined_text = combined_text.replace(\"Sri Lanka\", \"SriLanka\")\n",
        "combined_text = combined_text.replace(\"Vatican City\", \"VaticanCity\")\n",
        "combined_text = combined_text.replace(\"Dominican Republic\", \"DominicanRepublic\")\n",
        "\n",
        "word_counts = pd.Series(combined_text.split()).value_counts()\n",
        "\n",
        "end_time_wordcount_panda = time.time()\n",
        "\n",
        "time_difference_wordcount_panda = end_time_wordcount_panda - start_time_wordcount_panda"
      ]
    },
    {
      "cell_type": "code",
      "execution_count": 8,
      "id": "1f902dc5",
      "metadata": {
        "id": "1f902dc5",
        "outputId": "9054659f-001a-40da-cba2-17280cfd9da7",
        "colab": {
          "base_uri": "https://localhost:8080/"
        }
      },
      "outputs": [
        {
          "output_type": "execute_result",
          "data": {
            "text/plain": [
              "UnitedStates     3690\n",
              "India            1046\n",
              "nan               831\n",
              "UnitedKingdom     806\n",
              "Canada            445\n",
              "                 ... \n",
              "Bermuda             1\n",
              "Ecuador             1\n",
              "Armenia             1\n",
              "Mongolia            1\n",
              "Montenegro          1\n",
              "Length: 125, dtype: int64"
            ]
          },
          "metadata": {},
          "execution_count": 8
        }
      ],
      "source": [
        "word_counts"
      ]
    },
    {
      "cell_type": "markdown",
      "source": [
        "### Word count using SparkContext for country column"
      ],
      "metadata": {
        "id": "TeoEomjqpFSf"
      },
      "id": "TeoEomjqpFSf"
    },
    {
      "cell_type": "code",
      "execution_count": 9,
      "id": "6c7fc68c",
      "metadata": {
        "id": "6c7fc68c"
      },
      "outputs": [],
      "source": [
        "scnew = SparkContext(\"local\", \"WordCount\")\n",
        "\n",
        "country_rdd = scnew.parallelize(pandas_df['country'].astype(str).tolist())\n",
        "\n",
        "start_time_wordcount_sparkc = time.time()\n",
        "cleaned_rdd = country_rdd.map(lambda line: line.replace(\",\", \" \")\n",
        "                                    .replace(\"United States\", \"UnitedStates\")\n",
        "                                    .replace(\"United Kingdom\", \"UnitedKingdom\")\n",
        "                                    .replace(\"United Arab Emirates\", \"UnitedArabEmirates\")\n",
        "                                    .replace(\"Hong Kong\", \"HongKong\")\n",
        "                                    .replace(\"New Zealand\", \"NewZealand\")\n",
        "                                    .replace(\"Saudi Arabia\", \"SaudiArabia\")\n",
        "                                    .replace(\"Czech Republic\", \"CzechRepublic\")\n",
        "                                    .replace(\"South Korea\", \"SouthKorea\")\n",
        "                                    .replace(\"West Germany\", \"WestGermany\")\n",
        "                                    .replace(\"East Germany\", \"EastGermany\")\n",
        "                                    .replace(\"Cayman Islands\", \"CaymanIslands\")\n",
        "                                    .replace(\"South Africa\", \"SouthAfrica\")\n",
        "                                    .replace(\"Soviet Union\", \"SovietUnion\")\n",
        "                                    .replace(\"Sri Lanka\", \"SriLanka\")\n",
        "                                    .replace(\"Vatican City\", \"VaticanCity\")\n",
        "                                    .replace(\"Dominican Republic\", \"DominicanRepublic\"))\n",
        "\n",
        "\n",
        "word_counts = cleaned_rdd.flatMap(lambda line: line.split()) \\\n",
        "                         .map(lambda word: (word, 1)) \\\n",
        "                         .reduceByKey(lambda a, b: a + b) \\\n",
        "                         .sortBy(lambda x: x[1], ascending=False)\n",
        "\n",
        "word_counts = word_counts.collect()\n",
        "end_time_wordcount_sparkc = time.time()\n",
        "\n",
        "scnew.stop()\n",
        "\n",
        "time_difference_wordcount_sparkc = end_time_wordcount_sparkc - start_time_wordcount_sparkc\n"
      ]
    },
    {
      "cell_type": "code",
      "execution_count": 10,
      "id": "ac72ada0",
      "metadata": {
        "id": "ac72ada0",
        "colab": {
          "base_uri": "https://localhost:8080/"
        },
        "outputId": "190fddc8-6450-42f6-f7d4-9c64a0e76798"
      },
      "outputs": [
        {
          "output_type": "execute_result",
          "data": {
            "text/plain": [
              "[('UnitedStates', 3676),\n",
              " ('India', 1046),\n",
              " ('None', 832),\n",
              " ('UnitedKingdom', 805),\n",
              " ('Canada', 445),\n",
              " ('France', 392),\n",
              " ('Japan', 318),\n",
              " ('SouthKorea', 231),\n",
              " ('Spain', 230),\n",
              " ('Germany', 224),\n",
              " ('Mexico', 169),\n",
              " ('China', 162),\n",
              " ('Australia', 160),\n",
              " ('Egypt', 117),\n",
              " ('Turkey', 113),\n",
              " ('HongKong', 105),\n",
              " ('Nigeria', 101),\n",
              " ('Italy', 100),\n",
              " ('Brazil', 97),\n",
              " ('Argentina', 91),\n",
              " ('Belgium', 90),\n",
              " ('Indonesia', 90),\n",
              " ('Taiwan', 89),\n",
              " ('Philippines', 83),\n",
              " ('Thailand', 70),\n",
              " ('SouthAfrica', 62),\n",
              " ('Colombia', 52),\n",
              " ('Netherlands', 50),\n",
              " ('Denmark', 48),\n",
              " ('Ireland', 46),\n",
              " ('Sweden', 42),\n",
              " ('Singapore', 41),\n",
              " ('Poland', 41),\n",
              " ('UnitedArabEmirates', 37),\n",
              " ('NewZealand', 33),\n",
              " ('Lebanon', 31),\n",
              " ('Israel', 30),\n",
              " ('Norway', 30),\n",
              " ('Chile', 29),\n",
              " ('Russia', 27),\n",
              " ('Malaysia', 26),\n",
              " ('Pakistan', 24),\n",
              " ('CzechRepublic', 22),\n",
              " ('Switzerland', 19),\n",
              " ('Romania', 14),\n",
              " ('Uruguay', 14),\n",
              " ('SaudiArabia', 13),\n",
              " ('Austria', 12),\n",
              " ('Luxembourg', 12),\n",
              " ('Finland', 11),\n",
              " ('Greece', 11),\n",
              " ('Hungary', 11),\n",
              " ('Iceland', 11),\n",
              " ('Bulgaria', 10),\n",
              " ('Qatar', 10),\n",
              " ('Peru', 10),\n",
              " ('Jordan', 9),\n",
              " ('Kuwait', 8),\n",
              " ('Vietnam', 7),\n",
              " ('Serbia', 7),\n",
              " ('Kenya', 6),\n",
              " ('Cambodia', 6),\n",
              " ('Portugal', 6),\n",
              " ('Morocco', 6),\n",
              " ('Ghana', 5),\n",
              " ('WestGermany', 5),\n",
              " ('Venezuela', 4),\n",
              " ('Bangladesh', 4),\n",
              " ('Croatia', 4),\n",
              " ('Iran', 4),\n",
              " ('Algeria', 3),\n",
              " ('Syria', 3),\n",
              " ('Senegal', 3),\n",
              " ('Malta', 3),\n",
              " ('Zimbabwe', 3),\n",
              " ('SovietUnion', 3),\n",
              " ('Ukraine', 3),\n",
              " ('Slovenia', 3),\n",
              " ('Nepal', 2),\n",
              " ('Mauritius', 2),\n",
              " ('CaymanIslands', 2),\n",
              " ('Namibia', 2),\n",
              " ('Guatemala', 2),\n",
              " ('Iraq', 2),\n",
              " ('Georgia', 2),\n",
              " ('Burkina', 1),\n",
              " ('Faso', 1),\n",
              " ('Ethiopia', 1),\n",
              " ('Tobechukwu', 1),\n",
              " ('\"\"iLLbliss\"\"', 1),\n",
              " ('Ejiofor', 1),\n",
              " ('Chuck', 1),\n",
              " ('D.', 1),\n",
              " ('Remilekun', 1),\n",
              " ('\"\"Reminisce\"\"', 1),\n",
              " ('Safaru', 1),\n",
              " ('plus', 1),\n",
              " ('Whitney', 1),\n",
              " ('Cummings', 1),\n",
              " ('gives', 1),\n",
              " ('suspect', 1),\n",
              " ('dating', 1),\n",
              " ('advice.\"', 1),\n",
              " ('Cameroon', 1),\n",
              " ('Palestine', 1),\n",
              " ('Tantoo', 1),\n",
              " ('Cardinal', 1),\n",
              " ('Sophia', 1),\n",
              " ('Loren\"', 1),\n",
              " ('James', 1),\n",
              " ('Toback\"', 1),\n",
              " ('Theo', 1),\n",
              " ('Campbell\"', 1),\n",
              " ('Michael', 1),\n",
              " ('Cavalieri', 1),\n",
              " ('Angola', 1),\n",
              " ('Henri-Noël', 1),\n",
              " ('Tabary\"', 1),\n",
              " ('Mozambique', 1),\n",
              " ('Francesc', 1),\n",
              " ('Orella', 1),\n",
              " ('Belarus', 1),\n",
              " ('Puerto', 1),\n",
              " ('Rico', 1),\n",
              " ('Leonardo', 1),\n",
              " ('Sbaraglia', 1),\n",
              " ('Cyprus', 1),\n",
              " ('Rob', 1),\n",
              " ('Morgan', 1),\n",
              " ('Malawi', 1),\n",
              " ('Paraguay', 1),\n",
              " ('Albania', 1),\n",
              " ('Slovakia', 1),\n",
              " ('Ama', 1),\n",
              " ('K.', 1),\n",
              " ('Abebrese', 1),\n",
              " ('Bermuda', 1),\n",
              " ('Ecuador', 1),\n",
              " ('Dominic', 1),\n",
              " ('Costa', 1),\n",
              " ('Armenia', 1),\n",
              " ('Mongolia', 1),\n",
              " ('Bahamas', 1),\n",
              " ('SriLanka', 1),\n",
              " ('Lachion', 1),\n",
              " ('Buckingham', 1),\n",
              " ('Latvia', 1),\n",
              " ('Liechtenstein', 1),\n",
              " ('Cuba', 1),\n",
              " ('Nicaragua', 1),\n",
              " ('Aziz', 1),\n",
              " ('Ansari', 1),\n",
              " ('Justin', 1),\n",
              " ('\"\"Alyssa', 1),\n",
              " ('Edwards\"\"', 1),\n",
              " ('Johnson', 1),\n",
              " ('Doug', 1),\n",
              " ('Plaut', 1),\n",
              " ('DominicanRepublic', 1),\n",
              " ('Samoa', 1),\n",
              " ('Azerbaijan', 1),\n",
              " ('Botswana', 1),\n",
              " ('VaticanCity', 1),\n",
              " ('Jamaica', 1),\n",
              " ('Kazakhstan', 1),\n",
              " ('Lithuania', 1),\n",
              " ('Afghanistan', 1),\n",
              " ('1944', 1),\n",
              " ('Somalia', 1),\n",
              " ('Sudan', 1),\n",
              " ('Panama', 1),\n",
              " ('Uganda', 1),\n",
              " ('EastGermany', 1),\n",
              " ('Montenegro', 1)]"
            ]
          },
          "metadata": {},
          "execution_count": 10
        }
      ],
      "source": [
        "word_counts"
      ]
    },
    {
      "cell_type": "markdown",
      "source": [
        "### Time difference for word count using Pandas vs SparkContext for country column\n"
      ],
      "metadata": {
        "id": "41FFkR43pJNt"
      },
      "id": "41FFkR43pJNt"
    },
    {
      "cell_type": "code",
      "execution_count": 11,
      "id": "3a708b31",
      "metadata": {
        "id": "3a708b31",
        "colab": {
          "base_uri": "https://localhost:8080/"
        },
        "outputId": "51564520-752c-414e-b32b-ab03d1b9a30e"
      },
      "outputs": [
        {
          "output_type": "stream",
          "name": "stdout",
          "text": [
            "Time for word count for country using pandas:  0.011105775833129883\n",
            "Time for word count country using SparkContext:  3.609203577041626\n",
            "Time difference between pyspark and pandas dataframe:  3.598097801208496\n"
          ]
        }
      ],
      "source": [
        "print(\"Time for word count for country using pandas: \", time_difference_wordcount_panda)\n",
        "print(\"Time for word count country using SparkContext: \", time_difference_wordcount_sparkc)\n",
        "print( \"Time difference between pyspark and pandas dataframe: \", time_difference_wordcount_sparkc - time_difference_wordcount_panda)"
      ]
    }
  ],
  "metadata": {
    "kernelspec": {
      "display_name": "Python 3 (ipykernel)",
      "language": "python",
      "name": "python3"
    },
    "language_info": {
      "codemirror_mode": {
        "name": "ipython",
        "version": 3
      },
      "file_extension": ".py",
      "mimetype": "text/x-python",
      "name": "python",
      "nbconvert_exporter": "python",
      "pygments_lexer": "ipython3",
      "version": "3.11.4"
    },
    "colab": {
      "provenance": []
    }
  },
  "nbformat": 4,
  "nbformat_minor": 5
}