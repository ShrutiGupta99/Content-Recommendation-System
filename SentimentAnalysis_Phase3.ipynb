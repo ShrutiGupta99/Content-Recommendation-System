{
  "nbformat": 4,
  "nbformat_minor": 0,
  "metadata": {
    "colab": {
      "provenance": []
    },
    "kernelspec": {
      "name": "python3",
      "display_name": "Python 3"
    },
    "language_info": {
      "name": "python"
    }
  },
  "cells": [
    {
      "cell_type": "markdown",
      "source": [
        "# Extra Credit Sentiment Analysis"
      ],
      "metadata": {
        "id": "68edEnJesnpZ"
      }
    },
    {
      "cell_type": "markdown",
      "source": [
        "### Importing the required libraries"
      ],
      "metadata": {
        "id": "I-VINaB2si2M"
      }
    },
    {
      "cell_type": "code",
      "source": [
        "import pandas as pd\n",
        "import re\n",
        "from nltk.corpus import stopwords\n",
        "from nltk.sentiment import SentimentIntensityAnalyzer\n",
        "from gensim.models import KeyedVectors\n",
        "from gensim.models import Word2Vec"
      ],
      "metadata": {
        "id": "-urZRcobnqxF"
      },
      "execution_count": 10,
      "outputs": []
    },
    {
      "cell_type": "code",
      "source": [
        "import nltk\n",
        "nltk.download('stopwords')\n",
        "import nltk\n",
        "nltk.download('punkt')"
      ],
      "metadata": {
        "colab": {
          "base_uri": "https://localhost:8080/"
        },
        "id": "vnIVfFEtolsf",
        "outputId": "9878ad50-3a51-4db1-a50d-2294697d6601"
      },
      "execution_count": 2,
      "outputs": [
        {
          "output_type": "stream",
          "name": "stderr",
          "text": [
            "[nltk_data] Downloading package stopwords to /root/nltk_data...\n",
            "[nltk_data]   Package stopwords is already up-to-date!\n",
            "[nltk_data] Downloading package punkt to /root/nltk_data...\n",
            "[nltk_data]   Package punkt is already up-to-date!\n"
          ]
        },
        {
          "output_type": "execute_result",
          "data": {
            "text/plain": [
              "True"
            ]
          },
          "metadata": {},
          "execution_count": 2
        }
      ]
    },
    {
      "cell_type": "code",
      "source": [
        "import nltk\n",
        "nltk.download('vader_lexicon')"
      ],
      "metadata": {
        "colab": {
          "base_uri": "https://localhost:8080/"
        },
        "id": "HwMcprjio_nP",
        "outputId": "76cbcea8-11c6-4cc9-8546-81186f472f8b"
      },
      "execution_count": 3,
      "outputs": [
        {
          "output_type": "stream",
          "name": "stderr",
          "text": [
            "[nltk_data] Downloading package vader_lexicon to /root/nltk_data...\n",
            "[nltk_data]   Package vader_lexicon is already up-to-date!\n"
          ]
        },
        {
          "output_type": "execute_result",
          "data": {
            "text/plain": [
              "True"
            ]
          },
          "metadata": {},
          "execution_count": 3
        }
      ]
    },
    {
      "cell_type": "markdown",
      "source": [
        "### Loading the data and taking first 2000 rows of the description column"
      ],
      "metadata": {
        "id": "eKsNqYjZsYga"
      }
    },
    {
      "cell_type": "code",
      "source": [
        "netflix_data = pd.read_csv('netflix_titles.csv')\n",
        "df = netflix_data['description']"
      ],
      "metadata": {
        "id": "0G_eJfbNnuXm"
      },
      "execution_count": 26,
      "outputs": []
    },
    {
      "cell_type": "markdown",
      "source": [
        "### Cleaning and preprocessing the data\n",
        "Converted text to lowercase, special characters and punctuation were removed and stop words were removed"
      ],
      "metadata": {
        "id": "_CUUb2s3rqRR"
      }
    },
    {
      "cell_type": "code",
      "source": [
        "stopwords_list = set(stopwords.words('english'))\n",
        "def textcleaning(text):\n",
        "    text = text.lower()\n",
        "    text = re.sub(r'[^a-zA-Z\\s]', '', text)\n",
        "    text = ' '.join(word for word in text.split() if word not in stopwords_list)\n",
        "    return text\n",
        "\n",
        "clean_df = df.apply(textcleaning)"
      ],
      "metadata": {
        "id": "3ioiQyXXnwVX"
      },
      "execution_count": 27,
      "outputs": []
    },
    {
      "cell_type": "markdown",
      "source": [
        "### Training Word2Vec model"
      ],
      "metadata": {
        "id": "lfV14z6zzfL8"
      }
    },
    {
      "cell_type": "code",
      "source": [
        "sentences = [description.split() for description in df]\n",
        "model = Word2Vec(sentences, window=5, min_count=1, workers=4)\n",
        "model.save(\"word2vec_model.bin\")"
      ],
      "metadata": {
        "id": "okeUABYyvA8z"
      },
      "execution_count": 28,
      "outputs": []
    },
    {
      "cell_type": "markdown",
      "source": [
        "### Performing Sentiment Analysis on cleaned Description column"
      ],
      "metadata": {
        "id": "LQcPoWjSrHRm"
      }
    },
    {
      "cell_type": "code",
      "source": [
        "model = Word2Vec.load(\"word2vec_model.bin\")\n",
        "sia = SentimentIntensityAnalyzer()\n",
        "sentiments = []\n",
        "for description in clean_df:\n",
        "    vector_sum = sum(model.wv.get_vector(word) for word in description.split() if word in model.wv.key_to_index)\n",
        "    sentiment = sia.polarity_scores(' '.join(vector_sum.astype(str)))\n",
        "    sentiments.append(sentiment)\n",
        "\n",
        "positive_count = sum(1 for sentiment in sentiments if sentiment['compound'] > 0)\n",
        "negative_count = sum(1 for sentiment in sentiments if sentiment['compound'] < 0)\n",
        "neutral_count = len(sentiments) - positive_count - negative_count"
      ],
      "metadata": {
        "id": "P4X5W9unxzis"
      },
      "execution_count": 29,
      "outputs": []
    },
    {
      "cell_type": "code",
      "source": [
        "print(\"Sentiment Analysis Results:\")\n",
        "print(\"Positive: \", positive_count)\n",
        "print(\"Negative: \", negative_count)\n",
        "print(\"Neutral: \", neutral_count)"
      ],
      "metadata": {
        "colab": {
          "base_uri": "https://localhost:8080/"
        },
        "id": "9w1E7r1znq1v",
        "outputId": "290204e8-059c-40e1-99d0-e55a9263c795"
      },
      "execution_count": 7,
      "outputs": [
        {
          "output_type": "stream",
          "name": "stdout",
          "text": [
            "Sentiment Analysis Results:\n",
            "Positive:  965\n",
            "Negative:  862\n",
            "Neutral:  173\n"
          ]
        }
      ]
    },
    {
      "cell_type": "markdown",
      "source": [
        "### Printing the first 6 Descriptions and their Predicted Sentiment"
      ],
      "metadata": {
        "id": "s0czlVN1qj4W"
      }
    },
    {
      "cell_type": "code",
      "source": [
        "for i in range(6):\n",
        "    print(i + 1, \"Description:\", df[i])\n",
        "    print(\"Predicted Sentiment:\", sentiments[i])\n",
        "    print()"
      ],
      "metadata": {
        "colab": {
          "base_uri": "https://localhost:8080/"
        },
        "id": "BPBCHzGSnq5L",
        "outputId": "89e3370b-568e-46de-a7c2-ed60344bcad2"
      },
      "execution_count": 8,
      "outputs": [
        {
          "output_type": "stream",
          "name": "stdout",
          "text": [
            "1 Description: father nears end life filmmaker kirsten johnson stages death inventive comical ways help face inevitable\n",
            "Predicted Sentiment: {'neg': 0.199, 'neu': 0.663, 'pos': 0.138, 'compound': -0.296}\n",
            "\n",
            "2 Description: crossing paths party cape town teen sets prove whether privateschool swimming star sister abducted birth\n",
            "Predicted Sentiment: {'neg': 0.174, 'neu': 0.684, 'pos': 0.142, 'compound': -0.1531}\n",
            "\n",
            "3 Description: protect family powerful drug lord skilled thief mehdi expert team robbers pulled violent deadly turf war\n",
            "Predicted Sentiment: {'neg': 0.406, 'neu': 0.399, 'pos': 0.196, 'compound': -0.7783}\n",
            "\n",
            "4 Description: feuds flirtations toilet talk go among incarcerated women orleans justice center new orleans gritty reality series\n",
            "Predicted Sentiment: {'neg': 0.176, 'neu': 0.653, 'pos': 0.171, 'compound': 0.2263}\n",
            "\n",
            "5 Description: city coaching centers known train indias finest collegiate minds earnest unexceptional student friends navigate campus life\n",
            "Predicted Sentiment: {'neg': 0.0, 'neu': 0.686, 'pos': 0.314, 'compound': 0.7506}\n",
            "\n",
            "6 Description: arrival charismatic young priest brings glorious miracles ominous mysteries renewed religious fervor dying town desperate believe\n",
            "Predicted Sentiment: {'neg': 0.215, 'neu': 0.594, 'pos': 0.192, 'compound': 0.128}\n",
            "\n"
          ]
        }
      ]
    }
  ]
}